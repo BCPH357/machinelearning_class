{
 "cells": [
  {
   "cell_type": "code",
   "execution_count": 153,
   "metadata": {},
   "outputs": [],
   "source": [
    "import numpy as np\n",
    "import pandas as pd\n",
    "import matplotlib.pyplot as plt"
   ]
  },
  {
   "cell_type": "code",
   "execution_count": 154,
   "metadata": {},
   "outputs": [],
   "source": [
    "x = np.arange(0, 30)\n",
    "y = [3, 4, 5, 7, 10, 8, 9, 10, 10, 23, 27, 44, 50, 63, 67, 60, 62, 70, 75, 88, 81, 87, 95, 100, 108, 135, 151, 160, 169, 179]"
   ]
  },
  {
   "cell_type": "code",
   "execution_count": 155,
   "metadata": {},
   "outputs": [
    {
     "data": {
      "image/png": "[encoded data removed]",
      "text/plain": [
       "<Figure size 720x432 with 1 Axes>"
      ]
     },
     "metadata": {
      "needs_background": "light"
     },
     "output_type": "display_data"
    }
   ],
   "source": [
    "plt.figure(figsize=(10,6))\n",
    "plt.scatter(x, y)\n",
    "plt.show()"
   ]
  },
  {
   "cell_type": "code",
   "execution_count": 156,
   "metadata": {},
   "outputs": [
    {
     "data": {
      "text/plain": [
       "PolynomialFeatures(degree=2, include_bias=False, interaction_only=False,\n",
       "                   order='C')"
      ]
     },
     "execution_count": 156,
     "metadata": {},
     "output_type": "execute_result"
    }
   ],
   "source": [
    "# step1: Determining the degree of the polynomial\n",
    "from sklearn.preprocessing import PolynomialFeatures\n",
    "poly = PolynomialFeatures(degree=2, include_bias=False)\n",
    "poly"
   ]
  },
  {
   "cell_type": "code",
   "execution_count": 157,
   "metadata": {
    "scrolled": true
   },
   "outputs": [
    {
     "data": {
      "text/plain": [
       "array([[  0.,   0.],\n",
       "       [  1.,   1.],\n",
       "       [  2.,   4.],\n",
       "       [  3.,   9.],\n",
       "       [  4.,  16.],\n",
       "       [  5.,  25.],\n",
       "       [  6.,  36.],\n",
       "       [  7.,  49.],\n",
       "       [  8.,  64.],\n",
       "       [  9.,  81.],\n",
       "       [ 10., 100.],\n",
       "       [ 11., 121.],\n",
       "       [ 12., 144.],\n",
       "       [ 13., 169.],\n",
       "       [ 14., 196.],\n",
       "       [ 15., 225.],\n",
       "       [ 16., 256.],\n",
       "       [ 17., 289.],\n",
       "       [ 18., 324.],\n",
       "       [ 19., 361.],\n",
       "       [ 20., 400.],\n",
       "       [ 21., 441.],\n",
       "       [ 22., 484.],\n",
       "       [ 23., 529.],\n",
       "       [ 24., 576.],\n",
       "       [ 25., 625.],\n",
       "       [ 26., 676.],\n",
       "       [ 27., 729.],\n",
       "       [ 28., 784.],\n",
       "       [ 29., 841.]])"
      ]
     },
     "execution_count": 157,
     "metadata": {},
     "output_type": "execute_result"
    }
   ],
   "source": [
    "# step2: Creating the new features\n",
    "# poly.fit(x.reshape(-1, 1))\n",
    "# poly.transform(x.reshape(-1, 1))\n",
    "poly_features = poly.fit_transform(x.reshape(-1, 1))\n",
    "poly_features"
   ]
  },
  {
   "cell_type": "code",
   "execution_count": 158,
   "metadata": {},
   "outputs": [
    {
     "data": {
      "text/plain": [
       "LinearRegression(copy_X=True, fit_intercept=True, n_jobs=None, normalize=False)"
      ]
     },
     "execution_count": 158,
     "metadata": {},
     "output_type": "execute_result"
    }
   ],
   "source": [
    "# step3: Creating the polynomial regression model\n",
    "from sklearn.linear_model import LinearRegression\n",
    "poly_reg_model = LinearRegression()\n",
    "poly_reg_model"
   ]
  },
  {
   "cell_type": "code",
   "execution_count": 159,
   "metadata": {},
   "outputs": [
    {
     "data": {
      "text/plain": [
       "LinearRegression(copy_X=True, fit_intercept=True, n_jobs=None, normalize=False)"
      ]
     },
     "execution_count": 159,
     "metadata": {},
     "output_type": "execute_result"
    }
   ],
   "source": [
    "poly_reg_model.fit(poly_features, y)"
   ]
  },
  {
   "cell_type": "code",
   "execution_count": 160,
   "metadata": {},
   "outputs": [
    {
     "data": {
      "text/plain": [
       "array([  1.70806452,   3.04187987,   4.70292388,   6.69119657,\n",
       "         9.00669792,  11.64942794,  14.61938662,  17.91657397,\n",
       "        21.54098999,  25.49263467,  29.77150802,  34.37761004,\n",
       "        39.31094073,  44.57150008,  50.1592881 ,  56.07430478,\n",
       "        62.31655014,  68.88602415,  75.78272684,  83.00665819,\n",
       "        90.55781821,  98.4362069 , 106.64182425, 115.17467027,\n",
       "       124.03474495, 133.22204831, 142.73658033, 152.57834101,\n",
       "       162.74733037, 173.24354839])"
      ]
     },
     "execution_count": 160,
     "metadata": {},
     "output_type": "execute_result"
    }
   ],
   "source": [
    "y_predicted = poly_reg_model.predict(poly_features)\n",
    "y_predicted"
   ]
  },
  {
   "cell_type": "code",
   "execution_count": 161,
   "metadata": {},
   "outputs": [
    {
     "data": {
      "image/png": "[encoded data removed]",
      "text/plain": [
       "<Figure size 720x432 with 1 Axes>"
      ]
     },
     "metadata": {
      "needs_background": "light"
     },
     "output_type": "display_data"
    }
   ],
   "source": [
    "plt.figure(figsize=(10, 6))\n",
    "plt.title(\"Your first polynomial regression – congrats! :)\", size=16)\n",
    "plt.scatter(x, y)\n",
    "plt.plot(x, y_predicted, c=\"red\")\n",
    "plt.show()"
   ]
  },
  {
   "cell_type": "markdown",
   "metadata": {},
   "source": [
    "# 一元二次方程式\n",
    "$$y = C_0*X + C_1*X^2 + B$$"
   ]
  },
  {
   "cell_type": "code",
   "execution_count": 162,
   "metadata": {},
   "outputs": [
    {
     "data": {
      "text/plain": [
       "array([1.17020102, 0.16361433])"
      ]
     },
     "execution_count": 162,
     "metadata": {},
     "output_type": "execute_result"
    }
   ],
   "source": [
    "# 印出方程式係數\n",
    "poly_reg_model.coef_"
   ]
  },
  {
   "cell_type": "code",
   "execution_count": 163,
   "metadata": {},
   "outputs": [
    {
     "data": {
      "text/plain": [
       "1.7080645161290136"
      ]
     },
     "execution_count": 163,
     "metadata": {},
     "output_type": "execute_result"
    }
   ],
   "source": [
    "# 印出方程式偏移bais\n",
    "poly_reg_model.intercept_"
   ]
  },
  {
   "cell_type": "code",
   "execution_count": 164,
   "metadata": {},
   "outputs": [
    {
     "data": {
      "text/plain": [
       "173.24354562612902"
      ]
     },
     "execution_count": 164,
     "metadata": {},
     "output_type": "execute_result"
    }
   ],
   "source": [
    "# 驗算最後一個數值\n",
    "1.17020102*29 + 0.16361433*29*29 + 1.7080645161290136"
   ]
  },
  {
   "cell_type": "code",
   "execution_count": 123,
   "metadata": {},
   "outputs": [],
   "source": [
    "np.random.seed(1)\n",
    "x_1 = np.absolute(np.random.randn(100, 1) * 10)\n",
    "x_2 = np.absolute(np.random.randn(100, 1) * 30)\n",
    "y = 2*x_1**2 + 3*x_2 + 2 + np.random.randn(100, 1)*20"
   ]
  },
  {
   "cell_type": "code",
   "execution_count": 124,
   "metadata": {},
   "outputs": [
    {
     "data": {
      "image/png": "[encoded data removed]",
      "text/plain": [
       "<Figure size 720x288 with 2 Axes>"
      ]
     },
     "metadata": {
      "needs_background": "light"
     },
     "output_type": "display_data"
    }
   ],
   "source": [
    "fig, axes = plt.subplots(nrows=1, ncols=2, figsize=(10, 4))\n",
    "axes[0].scatter(x_1, y)\n",
    "axes[1].scatter(x_2, y)\n",
    "axes[0].set_title(\"x_1 plotted\")\n",
    "axes[1].set_title(\"x_2 plotted\")\n",
    "plt.show()"
   ]
  },
  {
   "cell_type": "code",
   "execution_count": 125,
   "metadata": {},
   "outputs": [
    {
     "data": {
      "text/html": [
       "<div>\n",
       "<style scoped>\n",
       "    .dataframe tbody tr th:only-of-type {\n",
       "        vertical-align: middle;\n",
       "    }\n",
       "\n",
       "    .dataframe tbody tr th {\n",
       "        vertical-align: top;\n",
       "    }\n",
       "\n",
       "    .dataframe thead th {\n",
       "        text-align: right;\n",
       "    }\n",
       "</style>\n",
       "<table border=\"1\" class=\"dataframe\">\n",
       "  <thead>\n",
       "    <tr style=\"text-align: right;\">\n",
       "      <th></th>\n",
       "      <th>x_1</th>\n",
       "      <th>x_2</th>\n",
       "      <th>y</th>\n",
       "    </tr>\n",
       "  </thead>\n",
       "  <tbody>\n",
       "    <tr>\n",
       "      <th>0</th>\n",
       "      <td>16.243454</td>\n",
       "      <td>13.413857</td>\n",
       "      <td>561.923579</td>\n",
       "    </tr>\n",
       "    <tr>\n",
       "      <th>1</th>\n",
       "      <td>6.117564</td>\n",
       "      <td>36.735231</td>\n",
       "      <td>203.534988</td>\n",
       "    </tr>\n",
       "    <tr>\n",
       "      <th>2</th>\n",
       "      <td>5.281718</td>\n",
       "      <td>12.104749</td>\n",
       "      <td>82.861219</td>\n",
       "    </tr>\n",
       "    <tr>\n",
       "      <th>3</th>\n",
       "      <td>10.729686</td>\n",
       "      <td>17.807356</td>\n",
       "      <td>324.771961</td>\n",
       "    </tr>\n",
       "    <tr>\n",
       "      <th>4</th>\n",
       "      <td>8.654076</td>\n",
       "      <td>32.847355</td>\n",
       "      <td>223.689106</td>\n",
       "    </tr>\n",
       "    <tr>\n",
       "      <th>...</th>\n",
       "      <td>...</td>\n",
       "      <td>...</td>\n",
       "      <td>...</td>\n",
       "    </tr>\n",
       "    <tr>\n",
       "      <th>95</th>\n",
       "      <td>0.773401</td>\n",
       "      <td>48.823150</td>\n",
       "      <td>143.718510</td>\n",
       "    </tr>\n",
       "    <tr>\n",
       "      <th>96</th>\n",
       "      <td>3.438537</td>\n",
       "      <td>18.069578</td>\n",
       "      <td>88.201845</td>\n",
       "    </tr>\n",
       "    <tr>\n",
       "      <th>97</th>\n",
       "      <td>0.435969</td>\n",
       "      <td>12.608466</td>\n",
       "      <td>55.900949</td>\n",
       "    </tr>\n",
       "    <tr>\n",
       "      <th>98</th>\n",
       "      <td>6.200008</td>\n",
       "      <td>24.328550</td>\n",
       "      <td>132.757355</td>\n",
       "    </tr>\n",
       "    <tr>\n",
       "      <th>99</th>\n",
       "      <td>6.980320</td>\n",
       "      <td>31.333263</td>\n",
       "      <td>205.167741</td>\n",
       "    </tr>\n",
       "  </tbody>\n",
       "</table>\n",
       "<p>100 rows × 3 columns</p>\n",
       "</div>"
      ],
      "text/plain": [
       "          x_1        x_2           y\n",
       "0   16.243454  13.413857  561.923579\n",
       "1    6.117564  36.735231  203.534988\n",
       "2    5.281718  12.104749   82.861219\n",
       "3   10.729686  17.807356  324.771961\n",
       "4    8.654076  32.847355  223.689106\n",
       "..        ...        ...         ...\n",
       "95   0.773401  48.823150  143.718510\n",
       "96   3.438537  18.069578   88.201845\n",
       "97   0.435969  12.608466   55.900949\n",
       "98   6.200008  24.328550  132.757355\n",
       "99   6.980320  31.333263  205.167741\n",
       "\n",
       "[100 rows x 3 columns]"
      ]
     },
     "execution_count": 125,
     "metadata": {},
     "output_type": "execute_result"
    }
   ],
   "source": [
    "# step1: Storing the variables in a dataframe\n",
    "df = pd.DataFrame({\"x_1\":x_1.reshape(100,), \"x_2\":x_2.reshape(100,), \"y\":y.reshape(100,)}, index=range(0,100))\n",
    "df"
   ]
  },
  {
   "cell_type": "code",
   "execution_count": 126,
   "metadata": {},
   "outputs": [],
   "source": [
    "# step2: Defining the training and the test data\n",
    "from sklearn.model_selection import train_test_split\n",
    "from sklearn.preprocessing import PolynomialFeatures\n",
    "X, y = df[[\"x_1\", \"x_2\"]], df[\"y\"]\n",
    "poly = PolynomialFeatures(degree=2, include_bias=False)\n",
    "poly_features = poly.fit_transform(X)\n",
    "X_train, X_test, y_train, y_test = train_test_split(poly_features, y, test_size=0.3, random_state=42)"
   ]
  },
  {
   "cell_type": "code",
   "execution_count": 127,
   "metadata": {},
   "outputs": [
    {
     "data": {
      "text/plain": [
       "(100, 5)"
      ]
     },
     "execution_count": 127,
     "metadata": {},
     "output_type": "execute_result"
    }
   ],
   "source": [
    "poly_features.shape"
   ]
  },
  {
   "cell_type": "code",
   "execution_count": 128,
   "metadata": {},
   "outputs": [
    {
     "name": "stdout",
     "output_type": "stream",
     "text": [
      "(70, 5) (30, 5) (70,) (30,)\n"
     ]
    }
   ],
   "source": [
    "print(X_train.shape, X_test.shape, y_train.shape, y_test.shape)"
   ]
  },
  {
   "cell_type": "code",
   "execution_count": 129,
   "metadata": {},
   "outputs": [
    {
     "data": {
      "text/plain": [
       "array([[1.62434536e+01, 1.34138569e+01, 2.63849786e+02, 2.17887363e+02,\n",
       "        1.79931558e+02],\n",
       "       [6.11756414e+00, 3.67352311e+01, 3.74245910e+01, 2.24730133e+02,\n",
       "        1.34947721e+03],\n",
       "       [5.28171752e+00, 1.21047493e+01, 2.78965400e+01, 6.39338662e+01,\n",
       "        1.46524954e+02],\n",
       "       [1.07296862e+01, 1.78073557e+01, 1.15126166e+02, 1.91067339e+02,\n",
       "        3.17101917e+02],\n",
       "       [8.65407629e+00, 3.28473554e+01, 7.48930365e+01, 2.84263519e+02,\n",
       "        1.07894875e+03],\n",
       "       [2.30153870e+01, 5.08147299e+00, 5.29708037e+02, 1.16952067e+02,\n",
       "        2.58213678e+01],\n",
       "       [1.74481176e+01, 2.22166935e+01, 3.04436809e+02, 3.87639482e+02,\n",
       "        4.93581472e+02],\n",
       "       [7.61206901e+00, 2.86110181e+01, 5.79435946e+01, 2.17789044e+02,\n",
       "        8.18590354e+02],\n",
       "       [3.19039096e+00, 7.98655518e+00, 1.01785945e+01, 2.54802335e+01,\n",
       "        6.37850636e+01],\n",
       "       [2.49370375e+00, 9.78436401e-01, 6.21855842e+00, 2.43993053e+00,\n",
       "        9.57337790e-01],\n",
       "       [1.46210794e+01, 4.11935196e+01, 2.13775962e+02, 6.02293720e+02,\n",
       "        1.69690606e+03],\n",
       "       [2.06014071e+01, 9.45478176e+00, 4.24417974e+02, 1.94781808e+02,\n",
       "        8.93928982e+01],\n",
       "       [3.22417204e+00, 2.53848194e+01, 1.03952853e+01, 8.18450250e+01,\n",
       "        6.44389057e+02],\n",
       "       [3.84054355e+00, 2.57854782e+01, 1.47497747e+01, 9.90302520e+01,\n",
       "        6.64890887e+02],\n",
       "       [1.13376944e+01, 1.05163794e+01, 1.28543315e+02, 1.19231496e+02,\n",
       "        1.10594235e+02],\n",
       "       [1.09989127e+01, 3.93685023e+01, 1.20976080e+02, 4.33010719e+02,\n",
       "        1.54987898e+03],\n",
       "       [1.72428208e+00, 1.16086528e+00, 2.97314868e+00, 2.00165919e+00,\n",
       "        1.34760819e+00],\n",
       "       [8.77858418e+00, 4.84731706e+01, 7.70635402e+01, 4.25525809e+02,\n",
       "        2.34964827e+03],\n",
       "       [4.22137467e-01, 3.36425312e+01, 1.78200041e-01, 1.42017729e+01,\n",
       "        1.13181991e+03],\n",
       "       [5.82815214e+00, 1.22670161e+01, 3.39673573e+01, 7.14940363e+01,\n",
       "        1.50479685e+02],\n",
       "       [1.10061918e+01, 7.38508676e-01, 1.21136257e+02, 8.12816812e+00,\n",
       "        5.45395065e-01],\n",
       "       [1.14472371e+01, 2.32548486e+01, 1.31039237e+02, 2.66203765e+02,\n",
       "        5.40787982e+02],\n",
       "       [9.01590721e+00, 3.82126779e+01, 8.12865827e+01, 3.44521958e+02,\n",
       "        1.46020875e+03],\n",
       "       [5.02494339e+00, 5.90130525e+01, 2.52500561e+01, 2.96537248e+02,\n",
       "        3.48254036e+03],\n",
       "       [9.00855949e+00, 5.57394559e+01, 8.11541441e+01, 5.02132205e+02,\n",
       "        3.10688695e+03],\n",
       "       [6.83727859e+00, 3.70849209e+01, 4.67483785e+01, 2.53559936e+02,\n",
       "        1.37529136e+03],\n",
       "       [1.22890226e+00, 4.88295226e+01, 1.51020075e+00, 6.00067104e+01,\n",
       "        2.38432228e+03],\n",
       "       [9.35769434e+00, 1.01403509e+01, 8.75664434e+01, 9.48903042e+01,\n",
       "        1.02826716e+02],\n",
       "       [2.67888080e+00, 3.59780410e+01, 7.17640232e+00, 9.63808830e+01,\n",
       "        1.29441943e+03],\n",
       "       [5.30355467e+00, 2.59003595e+01, 2.81276921e+01, 1.37363973e+02,\n",
       "        6.70828624e+02],\n",
       "       [6.91660752e+00, 5.42760906e+00, 4.78394595e+01, 3.75406416e+01,\n",
       "        2.94589401e+01],\n",
       "       [3.96753527e+00, 1.81176188e+01, 1.57413361e+01, 7.18822917e+01,\n",
       "        3.28248112e+02],\n",
       "       [6.87172700e+00, 3.69017441e+01, 4.72206320e+01, 2.53578711e+02,\n",
       "        1.36173872e+03],\n",
       "       [8.45205641e+00, 1.65161249e+01, 7.14372576e+01, 1.39595219e+02,\n",
       "        2.72782381e+02],\n",
       "       [6.71246131e+00, 2.37842060e+01, 4.50571368e+01, 1.59650562e+02,\n",
       "        5.65688454e+02],\n",
       "       [1.26645989e-01, 1.87059219e+01, 1.60392066e-02, 2.36902998e+00,\n",
       "        3.49911514e+02],\n",
       "       [1.11731035e+01, 1.56172901e+01, 1.24838242e+02, 1.74493599e+02,\n",
       "        2.43899750e+02],\n",
       "       [2.34415698e+00, 3.43302417e+01, 5.49507194e+00, 8.04754756e+01,\n",
       "        1.17856549e+03],\n",
       "       [1.65980218e+01, 2.40558310e+01, 2.75494327e+02, 3.99279206e+02,\n",
       "        5.78683003e+02],\n",
       "       [7.42044161e+00, 1.39701895e+00, 5.50629536e+01, 1.03664976e+01,\n",
       "        1.95166195e+00],\n",
       "       [1.91835552e+00, 5.59709316e+00, 3.68008791e+00, 1.07372146e+01,\n",
       "        3.13274518e+01],\n",
       "       [8.87628964e+00, 3.05237618e+00, 7.87885178e+01, 2.70937750e+01,\n",
       "        9.31700032e+00],\n",
       "       [7.47158294e+00, 2.60665847e+01, 5.58245516e+01, 1.94758650e+02,\n",
       "        6.79466838e+02],\n",
       "       [1.69245460e+01, 2.25123492e+01, 2.86440258e+02, 3.81011290e+02,\n",
       "        5.06805866e+02],\n",
       "       [5.08077548e-01, 1.58839597e+01, 2.58142795e-01, 8.07028331e+00,\n",
       "        2.52300177e+02],\n",
       "       [6.36995647e+00, 4.13103630e+00, 4.05763454e+01, 2.63145214e+01,\n",
       "        1.70654609e+01],\n",
       "       [1.90915485e+00, 2.33463384e+00, 3.64487223e+00, 4.45717751e+00,\n",
       "        5.45051515e+00],\n",
       "       [2.10025514e+01, 1.85514079e+01, 4.41107164e+02, 3.89626896e+02,\n",
       "        3.44154734e+02],\n",
       "       [1.20158952e+00, 6.97483678e+00, 1.44381739e+00, 8.38089081e+00,\n",
       "        4.86483480e+01],\n",
       "       [6.17203110e+00, 2.04765422e+01, 3.80939679e+01, 1.26381855e+02,\n",
       "        4.19288781e+02],\n",
       "       [3.00170320e+00, 9.30350321e+00, 9.01022210e+00, 2.79263553e+01,\n",
       "        8.65551719e+01],\n",
       "       [3.52249846e+00, 7.30451329e+01, 1.24079954e+01, 2.57301369e+02,\n",
       "        5.33559144e+03],\n",
       "       [1.14251820e+01, 3.11647381e+01, 1.30534783e+02, 3.56062804e+02,\n",
       "        9.71240898e+02],\n",
       "       [3.49342722e+00, 6.56093894e+01, 1.22040338e+01, 2.29201627e+02,\n",
       "        4.30459198e+03],\n",
       "       [2.08894233e+00, 1.32409333e+01, 4.36368007e+00, 2.76595461e+01,\n",
       "        1.75322315e+02],\n",
       "       [5.86623191e+00, 3.00465700e+00, 3.44126768e+01, 1.76260148e+01,\n",
       "        9.02796368e+00],\n",
       "       [8.38983414e+00, 4.09334232e+00, 7.03893169e+01, 3.43424631e+01,\n",
       "        1.67554513e+01],\n",
       "       [9.31102081e+00, 3.57162563e+00, 8.66951086e+01, 3.32554806e+01,\n",
       "        1.27565097e+01],\n",
       "       [2.85587325e+00, 5.22282249e-01, 8.15601203e+00, 1.49157191e+00,\n",
       "        2.72778748e-01],\n",
       "       [8.85141164e+00, 3.36605619e+01, 7.83474881e+01, 2.97943489e+02,\n",
       "        1.13303342e+03],\n",
       "       [7.54397941e+00, 1.55128337e+01, 5.69116253e+01, 1.17028498e+02,\n",
       "        2.40648011e+02],\n",
       "       [1.25286816e+01, 2.99108048e+01, 1.56967861e+02, 3.74742949e+02,\n",
       "        8.94656246e+02],\n",
       "       [5.12929820e+00, 7.46397484e+00, 2.63097001e+01, 3.82849528e+01,\n",
       "        5.57109204e+01],\n",
       "       [2.98092835e+00, 8.89923457e+00, 8.88593383e+00, 2.65279806e+01,\n",
       "        7.91963760e+01],\n",
       "       [4.88518147e+00, 1.48563397e+01, 2.38649979e+01, 7.25759154e+01,\n",
       "        2.20710830e+02],\n",
       "       [7.55717130e-01, 5.24109479e+00, 5.71108381e-01, 3.96078512e+00,\n",
       "        2.74690746e+01],\n",
       "       [1.13162939e+01, 2.95900556e+01, 1.28058507e+02, 3.34849765e+02,\n",
       "        8.75571392e+02],\n",
       "       [1.51981682e+01, 6.40601704e+00, 2.30984316e+02, 9.73597242e+01,\n",
       "        4.10370543e+01],\n",
       "       [2.18557541e+01, 6.57209919e+01, 4.77673986e+02, 1.43638184e+03,\n",
       "        4.31924877e+03],\n",
       "       [1.39649634e+01, 5.68908277e+01, 1.95020202e+02, 7.94478324e+02,\n",
       "        3.23656627e+03],\n",
       "       [1.44411381e+01, 1.94075006e+01, 2.08546468e+02, 2.80266396e+02,\n",
       "        3.76651081e+02],\n",
       "       [5.04465863e+00, 2.70446067e+01, 2.54485807e+01, 1.36430809e+02,\n",
       "        7.31410754e+02],\n",
       "       [1.60037069e+00, 7.58497712e+01, 2.56118636e+00, 1.21387751e+02,\n",
       "        5.75318779e+03],\n",
       "       [8.76168921e+00, 7.45904333e+00, 7.67671978e+01, 6.53538195e+01,\n",
       "        5.56373274e+01],\n",
       "       [3.15634947e+00, 1.31006980e+00, 9.96254199e+00, 4.13503811e+00,\n",
       "        1.71628287e+00],\n",
       "       [2.02220122e+01, 6.78942728e+00, 4.08929776e+02, 1.37295881e+02,\n",
       "        4.60963227e+01],\n",
       "       [3.06204013e+00, 3.99437134e+01, 9.37608973e+00, 1.22309253e+02,\n",
       "        1.59550024e+03],\n",
       "       [8.27974643e+00, 8.61923590e+00, 6.85542009e+01, 7.13650877e+01,\n",
       "        7.42912276e+01],\n",
       "       [2.30094735e+00, 2.04020952e+01, 5.29435872e+00, 4.69441470e+01,\n",
       "        4.16245488e+02],\n",
       "       [7.62011180e+00, 9.59404797e+00, 5.80661039e+01, 7.31077182e+01,\n",
       "        9.20457564e+01],\n",
       "       [2.22328143e+00, 3.81767627e+01, 4.94298030e+00, 8.48776873e+01,\n",
       "        1.45746521e+03],\n",
       "       [2.00758069e+00, 9.40643161e+00, 4.03038022e+00, 1.88841705e+01,\n",
       "        8.84809557e+01],\n",
       "       [1.86561391e+00, 1.50955444e+01, 3.48051526e+00, 2.81624576e+01,\n",
       "        2.27875461e+02],\n",
       "       [4.10051647e+00, 3.87967765e+01, 1.68142353e+01, 1.59086821e+02,\n",
       "        1.50518986e+03],\n",
       "       [1.98299720e+00, 3.31341079e+00, 3.93227790e+00, 6.57048433e+00,\n",
       "        1.09786911e+01],\n",
       "       [1.19008646e+00, 1.85208619e+01, 1.41630578e+00, 2.20414270e+01,\n",
       "        3.43022326e+02],\n",
       "       [6.70662286e+00, 1.68828329e+01, 4.49787902e+01, 1.13226793e+02,\n",
       "        2.85030047e+02],\n",
       "       [3.77563786e+00, 7.22211277e+00, 1.42554413e+01, 2.72680824e+01,\n",
       "        5.21589128e+01],\n",
       "       [1.21821271e+00, 8.41995231e+00, 1.48404221e+00, 1.02572929e+01,\n",
       "        7.08955970e+01],\n",
       "       [1.12948391e+01, 2.19338111e+00, 1.27573390e+02, 2.47738867e+01,\n",
       "        4.81092070e+00],\n",
       "       [1.19891788e+01, 3.48101571e+01, 1.43740408e+02, 4.17345197e+02,\n",
       "        1.21174704e+03],\n",
       "       [1.85156417e+00, 1.10847815e+01, 3.42828989e+00, 2.05241843e+01,\n",
       "        1.22872381e+02],\n",
       "       [3.75284950e+00, 5.71397613e+01, 1.40838794e+01, 2.14436924e+02,\n",
       "        3.26495232e+03],\n",
       "       [6.38730407e+00, 3.33317010e+01, 4.07976533e+01, 2.12899709e+02,\n",
       "        1.11100229e+03],\n",
       "       [4.23494354e+00, 1.97714939e+01, 1.79347468e+01, 8.37311603e+01,\n",
       "        3.90911970e+02],\n",
       "       [7.73400683e-01, 4.88231502e+01, 5.98148617e-01, 3.77598577e+01,\n",
       "        2.38370000e+03],\n",
       "       [3.43853676e+00, 1.80695784e+01, 1.18235350e+01, 6.21329095e+01,\n",
       "        3.26509664e+02],\n",
       "       [4.35968568e-01, 1.26084661e+01, 1.90068593e-01, 5.49689492e+00,\n",
       "        1.58973418e+02],\n",
       "       [6.20000844e+00, 2.43285502e+01, 3.84401046e+01, 1.50837216e+02,\n",
       "        5.91878354e+02],\n",
       "       [6.98032034e+00, 3.13332628e+01, 4.87248721e+01, 2.18716212e+02,\n",
       "        9.81773360e+02]])"
      ]
     },
     "execution_count": 129,
     "metadata": {},
     "output_type": "execute_result"
    }
   ],
   "source": [
    "poly_features"
   ]
  },
  {
   "cell_type": "code",
   "execution_count": 130,
   "metadata": {},
   "outputs": [
    {
     "data": {
      "text/html": [
       "<div>\n",
       "<style scoped>\n",
       "    .dataframe tbody tr th:only-of-type {\n",
       "        vertical-align: middle;\n",
       "    }\n",
       "\n",
       "    .dataframe tbody tr th {\n",
       "        vertical-align: top;\n",
       "    }\n",
       "\n",
       "    .dataframe thead th {\n",
       "        text-align: right;\n",
       "    }\n",
       "</style>\n",
       "<table border=\"1\" class=\"dataframe\">\n",
       "  <thead>\n",
       "    <tr style=\"text-align: right;\">\n",
       "      <th></th>\n",
       "      <th>x_1</th>\n",
       "      <th>x_2</th>\n",
       "    </tr>\n",
       "  </thead>\n",
       "  <tbody>\n",
       "    <tr>\n",
       "      <th>0</th>\n",
       "      <td>0</td>\n",
       "      <td>0</td>\n",
       "    </tr>\n",
       "    <tr>\n",
       "      <th>1</th>\n",
       "      <td>1</td>\n",
       "      <td>2</td>\n",
       "    </tr>\n",
       "    <tr>\n",
       "      <th>2</th>\n",
       "      <td>2</td>\n",
       "      <td>4</td>\n",
       "    </tr>\n",
       "    <tr>\n",
       "      <th>3</th>\n",
       "      <td>3</td>\n",
       "      <td>6</td>\n",
       "    </tr>\n",
       "    <tr>\n",
       "      <th>4</th>\n",
       "      <td>4</td>\n",
       "      <td>8</td>\n",
       "    </tr>\n",
       "    <tr>\n",
       "      <th>...</th>\n",
       "      <td>...</td>\n",
       "      <td>...</td>\n",
       "    </tr>\n",
       "    <tr>\n",
       "      <th>95</th>\n",
       "      <td>95</td>\n",
       "      <td>190</td>\n",
       "    </tr>\n",
       "    <tr>\n",
       "      <th>96</th>\n",
       "      <td>96</td>\n",
       "      <td>192</td>\n",
       "    </tr>\n",
       "    <tr>\n",
       "      <th>97</th>\n",
       "      <td>97</td>\n",
       "      <td>194</td>\n",
       "    </tr>\n",
       "    <tr>\n",
       "      <th>98</th>\n",
       "      <td>98</td>\n",
       "      <td>196</td>\n",
       "    </tr>\n",
       "    <tr>\n",
       "      <th>99</th>\n",
       "      <td>99</td>\n",
       "      <td>198</td>\n",
       "    </tr>\n",
       "  </tbody>\n",
       "</table>\n",
       "<p>100 rows × 2 columns</p>\n",
       "</div>"
      ],
      "text/plain": [
       "    x_1  x_2\n",
       "0     0    0\n",
       "1     1    2\n",
       "2     2    4\n",
       "3     3    6\n",
       "4     4    8\n",
       "..  ...  ...\n",
       "95   95  190\n",
       "96   96  192\n",
       "97   97  194\n",
       "98   98  196\n",
       "99   99  198\n",
       "\n",
       "[100 rows x 2 columns]"
      ]
     },
     "execution_count": 130,
     "metadata": {},
     "output_type": "execute_result"
    }
   ],
   "source": [
    "df = pd.DataFrame({\"x_1\":range(100), \"x_2\":range(0,200,2)})\n",
    "df"
   ]
  },
  {
   "cell_type": "code",
   "execution_count": 131,
   "metadata": {
    "scrolled": true
   },
   "outputs": [
    {
     "data": {
      "text/plain": [
       "array([[0.0000e+00, 0.0000e+00, 0.0000e+00, 0.0000e+00, 0.0000e+00],\n",
       "       [1.0000e+00, 2.0000e+00, 1.0000e+00, 2.0000e+00, 4.0000e+00],\n",
       "       [2.0000e+00, 4.0000e+00, 4.0000e+00, 8.0000e+00, 1.6000e+01],\n",
       "       [3.0000e+00, 6.0000e+00, 9.0000e+00, 1.8000e+01, 3.6000e+01],\n",
       "       [4.0000e+00, 8.0000e+00, 1.6000e+01, 3.2000e+01, 6.4000e+01],\n",
       "       [5.0000e+00, 1.0000e+01, 2.5000e+01, 5.0000e+01, 1.0000e+02],\n",
       "       [6.0000e+00, 1.2000e+01, 3.6000e+01, 7.2000e+01, 1.4400e+02],\n",
       "       [7.0000e+00, 1.4000e+01, 4.9000e+01, 9.8000e+01, 1.9600e+02],\n",
       "       [8.0000e+00, 1.6000e+01, 6.4000e+01, 1.2800e+02, 2.5600e+02],\n",
       "       [9.0000e+00, 1.8000e+01, 8.1000e+01, 1.6200e+02, 3.2400e+02],\n",
       "       [1.0000e+01, 2.0000e+01, 1.0000e+02, 2.0000e+02, 4.0000e+02],\n",
       "       [1.1000e+01, 2.2000e+01, 1.2100e+02, 2.4200e+02, 4.8400e+02],\n",
       "       [1.2000e+01, 2.4000e+01, 1.4400e+02, 2.8800e+02, 5.7600e+02],\n",
       "       [1.3000e+01, 2.6000e+01, 1.6900e+02, 3.3800e+02, 6.7600e+02],\n",
       "       [1.4000e+01, 2.8000e+01, 1.9600e+02, 3.9200e+02, 7.8400e+02],\n",
       "       [1.5000e+01, 3.0000e+01, 2.2500e+02, 4.5000e+02, 9.0000e+02],\n",
       "       [1.6000e+01, 3.2000e+01, 2.5600e+02, 5.1200e+02, 1.0240e+03],\n",
       "       [1.7000e+01, 3.4000e+01, 2.8900e+02, 5.7800e+02, 1.1560e+03],\n",
       "       [1.8000e+01, 3.6000e+01, 3.2400e+02, 6.4800e+02, 1.2960e+03],\n",
       "       [1.9000e+01, 3.8000e+01, 3.6100e+02, 7.2200e+02, 1.4440e+03],\n",
       "       [2.0000e+01, 4.0000e+01, 4.0000e+02, 8.0000e+02, 1.6000e+03],\n",
       "       [2.1000e+01, 4.2000e+01, 4.4100e+02, 8.8200e+02, 1.7640e+03],\n",
       "       [2.2000e+01, 4.4000e+01, 4.8400e+02, 9.6800e+02, 1.9360e+03],\n",
       "       [2.3000e+01, 4.6000e+01, 5.2900e+02, 1.0580e+03, 2.1160e+03],\n",
       "       [2.4000e+01, 4.8000e+01, 5.7600e+02, 1.1520e+03, 2.3040e+03],\n",
       "       [2.5000e+01, 5.0000e+01, 6.2500e+02, 1.2500e+03, 2.5000e+03],\n",
       "       [2.6000e+01, 5.2000e+01, 6.7600e+02, 1.3520e+03, 2.7040e+03],\n",
       "       [2.7000e+01, 5.4000e+01, 7.2900e+02, 1.4580e+03, 2.9160e+03],\n",
       "       [2.8000e+01, 5.6000e+01, 7.8400e+02, 1.5680e+03, 3.1360e+03],\n",
       "       [2.9000e+01, 5.8000e+01, 8.4100e+02, 1.6820e+03, 3.3640e+03],\n",
       "       [3.0000e+01, 6.0000e+01, 9.0000e+02, 1.8000e+03, 3.6000e+03],\n",
       "       [3.1000e+01, 6.2000e+01, 9.6100e+02, 1.9220e+03, 3.8440e+03],\n",
       "       [3.2000e+01, 6.4000e+01, 1.0240e+03, 2.0480e+03, 4.0960e+03],\n",
       "       [3.3000e+01, 6.6000e+01, 1.0890e+03, 2.1780e+03, 4.3560e+03],\n",
       "       [3.4000e+01, 6.8000e+01, 1.1560e+03, 2.3120e+03, 4.6240e+03],\n",
       "       [3.5000e+01, 7.0000e+01, 1.2250e+03, 2.4500e+03, 4.9000e+03],\n",
       "       [3.6000e+01, 7.2000e+01, 1.2960e+03, 2.5920e+03, 5.1840e+03],\n",
       "       [3.7000e+01, 7.4000e+01, 1.3690e+03, 2.7380e+03, 5.4760e+03],\n",
       "       [3.8000e+01, 7.6000e+01, 1.4440e+03, 2.8880e+03, 5.7760e+03],\n",
       "       [3.9000e+01, 7.8000e+01, 1.5210e+03, 3.0420e+03, 6.0840e+03],\n",
       "       [4.0000e+01, 8.0000e+01, 1.6000e+03, 3.2000e+03, 6.4000e+03],\n",
       "       [4.1000e+01, 8.2000e+01, 1.6810e+03, 3.3620e+03, 6.7240e+03],\n",
       "       [4.2000e+01, 8.4000e+01, 1.7640e+03, 3.5280e+03, 7.0560e+03],\n",
       "       [4.3000e+01, 8.6000e+01, 1.8490e+03, 3.6980e+03, 7.3960e+03],\n",
       "       [4.4000e+01, 8.8000e+01, 1.9360e+03, 3.8720e+03, 7.7440e+03],\n",
       "       [4.5000e+01, 9.0000e+01, 2.0250e+03, 4.0500e+03, 8.1000e+03],\n",
       "       [4.6000e+01, 9.2000e+01, 2.1160e+03, 4.2320e+03, 8.4640e+03],\n",
       "       [4.7000e+01, 9.4000e+01, 2.2090e+03, 4.4180e+03, 8.8360e+03],\n",
       "       [4.8000e+01, 9.6000e+01, 2.3040e+03, 4.6080e+03, 9.2160e+03],\n",
       "       [4.9000e+01, 9.8000e+01, 2.4010e+03, 4.8020e+03, 9.6040e+03],\n",
       "       [5.0000e+01, 1.0000e+02, 2.5000e+03, 5.0000e+03, 1.0000e+04],\n",
       "       [5.1000e+01, 1.0200e+02, 2.6010e+03, 5.2020e+03, 1.0404e+04],\n",
       "       [5.2000e+01, 1.0400e+02, 2.7040e+03, 5.4080e+03, 1.0816e+04],\n",
       "       [5.3000e+01, 1.0600e+02, 2.8090e+03, 5.6180e+03, 1.1236e+04],\n",
       "       [5.4000e+01, 1.0800e+02, 2.9160e+03, 5.8320e+03, 1.1664e+04],\n",
       "       [5.5000e+01, 1.1000e+02, 3.0250e+03, 6.0500e+03, 1.2100e+04],\n",
       "       [5.6000e+01, 1.1200e+02, 3.1360e+03, 6.2720e+03, 1.2544e+04],\n",
       "       [5.7000e+01, 1.1400e+02, 3.2490e+03, 6.4980e+03, 1.2996e+04],\n",
       "       [5.8000e+01, 1.1600e+02, 3.3640e+03, 6.7280e+03, 1.3456e+04],\n",
       "       [5.9000e+01, 1.1800e+02, 3.4810e+03, 6.9620e+03, 1.3924e+04],\n",
       "       [6.0000e+01, 1.2000e+02, 3.6000e+03, 7.2000e+03, 1.4400e+04],\n",
       "       [6.1000e+01, 1.2200e+02, 3.7210e+03, 7.4420e+03, 1.4884e+04],\n",
       "       [6.2000e+01, 1.2400e+02, 3.8440e+03, 7.6880e+03, 1.5376e+04],\n",
       "       [6.3000e+01, 1.2600e+02, 3.9690e+03, 7.9380e+03, 1.5876e+04],\n",
       "       [6.4000e+01, 1.2800e+02, 4.0960e+03, 8.1920e+03, 1.6384e+04],\n",
       "       [6.5000e+01, 1.3000e+02, 4.2250e+03, 8.4500e+03, 1.6900e+04],\n",
       "       [6.6000e+01, 1.3200e+02, 4.3560e+03, 8.7120e+03, 1.7424e+04],\n",
       "       [6.7000e+01, 1.3400e+02, 4.4890e+03, 8.9780e+03, 1.7956e+04],\n",
       "       [6.8000e+01, 1.3600e+02, 4.6240e+03, 9.2480e+03, 1.8496e+04],\n",
       "       [6.9000e+01, 1.3800e+02, 4.7610e+03, 9.5220e+03, 1.9044e+04],\n",
       "       [7.0000e+01, 1.4000e+02, 4.9000e+03, 9.8000e+03, 1.9600e+04],\n",
       "       [7.1000e+01, 1.4200e+02, 5.0410e+03, 1.0082e+04, 2.0164e+04],\n",
       "       [7.2000e+01, 1.4400e+02, 5.1840e+03, 1.0368e+04, 2.0736e+04],\n",
       "       [7.3000e+01, 1.4600e+02, 5.3290e+03, 1.0658e+04, 2.1316e+04],\n",
       "       [7.4000e+01, 1.4800e+02, 5.4760e+03, 1.0952e+04, 2.1904e+04],\n",
       "       [7.5000e+01, 1.5000e+02, 5.6250e+03, 1.1250e+04, 2.2500e+04],\n",
       "       [7.6000e+01, 1.5200e+02, 5.7760e+03, 1.1552e+04, 2.3104e+04],\n",
       "       [7.7000e+01, 1.5400e+02, 5.9290e+03, 1.1858e+04, 2.3716e+04],\n",
       "       [7.8000e+01, 1.5600e+02, 6.0840e+03, 1.2168e+04, 2.4336e+04],\n",
       "       [7.9000e+01, 1.5800e+02, 6.2410e+03, 1.2482e+04, 2.4964e+04],\n",
       "       [8.0000e+01, 1.6000e+02, 6.4000e+03, 1.2800e+04, 2.5600e+04],\n",
       "       [8.1000e+01, 1.6200e+02, 6.5610e+03, 1.3122e+04, 2.6244e+04],\n",
       "       [8.2000e+01, 1.6400e+02, 6.7240e+03, 1.3448e+04, 2.6896e+04],\n",
       "       [8.3000e+01, 1.6600e+02, 6.8890e+03, 1.3778e+04, 2.7556e+04],\n",
       "       [8.4000e+01, 1.6800e+02, 7.0560e+03, 1.4112e+04, 2.8224e+04],\n",
       "       [8.5000e+01, 1.7000e+02, 7.2250e+03, 1.4450e+04, 2.8900e+04],\n",
       "       [8.6000e+01, 1.7200e+02, 7.3960e+03, 1.4792e+04, 2.9584e+04],\n",
       "       [8.7000e+01, 1.7400e+02, 7.5690e+03, 1.5138e+04, 3.0276e+04],\n",
       "       [8.8000e+01, 1.7600e+02, 7.7440e+03, 1.5488e+04, 3.0976e+04],\n",
       "       [8.9000e+01, 1.7800e+02, 7.9210e+03, 1.5842e+04, 3.1684e+04],\n",
       "       [9.0000e+01, 1.8000e+02, 8.1000e+03, 1.6200e+04, 3.2400e+04],\n",
       "       [9.1000e+01, 1.8200e+02, 8.2810e+03, 1.6562e+04, 3.3124e+04],\n",
       "       [9.2000e+01, 1.8400e+02, 8.4640e+03, 1.6928e+04, 3.3856e+04],\n",
       "       [9.3000e+01, 1.8600e+02, 8.6490e+03, 1.7298e+04, 3.4596e+04],\n",
       "       [9.4000e+01, 1.8800e+02, 8.8360e+03, 1.7672e+04, 3.5344e+04],\n",
       "       [9.5000e+01, 1.9000e+02, 9.0250e+03, 1.8050e+04, 3.6100e+04],\n",
       "       [9.6000e+01, 1.9200e+02, 9.2160e+03, 1.8432e+04, 3.6864e+04],\n",
       "       [9.7000e+01, 1.9400e+02, 9.4090e+03, 1.8818e+04, 3.7636e+04],\n",
       "       [9.8000e+01, 1.9600e+02, 9.6040e+03, 1.9208e+04, 3.8416e+04],\n",
       "       [9.9000e+01, 1.9800e+02, 9.8010e+03, 1.9602e+04, 3.9204e+04]])"
      ]
     },
     "execution_count": 131,
     "metadata": {},
     "output_type": "execute_result"
    }
   ],
   "source": [
    "poly.fit(df)\n",
    "df_features = poly.transform(df)\n",
    "df_features"
   ]
  },
  {
   "cell_type": "code",
   "execution_count": 132,
   "metadata": {},
   "outputs": [
    {
     "data": {
      "text/plain": [
       "LinearRegression(copy_X=True, fit_intercept=True, n_jobs=None, normalize=False)"
      ]
     },
     "execution_count": 132,
     "metadata": {},
     "output_type": "execute_result"
    }
   ],
   "source": [
    "# step3: Creating a polynomial regression model\n",
    "from sklearn.linear_model import LinearRegression\n",
    "poly_reg_model = LinearRegression()\n",
    "poly_reg_model.fit(X_train, y_train)"
   ]
  },
  {
   "cell_type": "code",
   "execution_count": 133,
   "metadata": {},
   "outputs": [
    {
     "data": {
      "text/plain": [
       "20.937707839078723"
      ]
     },
     "execution_count": 133,
     "metadata": {},
     "output_type": "execute_result"
    }
   ],
   "source": [
    "poly_reg_y_predicted = poly_reg_model.predict(X_test)\n",
    "from sklearn.metrics import mean_squared_error\n",
    "poly_reg_rmse = np.sqrt(mean_squared_error(y_test, poly_reg_y_predicted))\n",
    "poly_reg_rmse"
   ]
  },
  {
   "cell_type": "code",
   "execution_count": 134,
   "metadata": {},
   "outputs": [
    {
     "data": {
      "text/plain": [
       "array([0.61945509, 1.9140045 , 1.89905813, 0.0207338 , 0.01300394])"
      ]
     },
     "execution_count": 134,
     "metadata": {},
     "output_type": "execute_result"
    }
   ],
   "source": [
    "poly_reg_model.coef_"
   ]
  },
  {
   "cell_type": "markdown",
   "metadata": {},
   "source": [
    "## 二元二次多項式 : \n",
    "$$Y, X_1, X_2$$\n",
    "## 數學模型 : \n",
    "$$\\hat Y = C_0 + C_1*X_1 + C_2*X_2 + C_{11}*X_1^2 + C_{22}*X_2^2 + C_{12}*X_1*X_2$$\n",
    "### 令$$X_3 = X_1^2, X_4 = X_2^2, X_5 = X_1*X_2, C_3 = C_{11}, C_4 = C_{22}, C_5 = C_{12}$$\n",
    "### 得$$\\hat Y = C_0 + C_1*X_1 + C_2*X_2 + C_3*X_3 + C_4*X_4 + C_5*X_5$$"
   ]
  },
  {
   "cell_type": "code",
   "execution_count": 135,
   "metadata": {},
   "outputs": [
    {
     "data": {
      "text/plain": [
       "array([0.61945509, 1.9140045 , 1.89905813, 0.0207338 , 0.01300394])"
      ]
     },
     "execution_count": 135,
     "metadata": {},
     "output_type": "execute_result"
    }
   ],
   "source": [
    "poly_reg_model.coef_"
   ]
  },
  {
   "cell_type": "code",
   "execution_count": 136,
   "metadata": {},
   "outputs": [
    {
     "data": {
      "text/plain": [
       "array([ 16.24345364,  13.41385694, 263.84978605, 217.88736335,\n",
       "       179.9315581 ])"
      ]
     },
     "execution_count": 136,
     "metadata": {},
     "output_type": "execute_result"
    }
   ],
   "source": [
    "poly_features[0,:]"
   ]
  },
  {
   "cell_type": "code",
   "execution_count": 146,
   "metadata": {},
   "outputs": [
    {
     "data": {
      "text/plain": [
       "543.366413215096"
      ]
     },
     "execution_count": 146,
     "metadata": {},
     "output_type": "execute_result"
    }
   ],
   "source": [
    "0.61945509*16.24345364 + 1.9140045*13.41385694 + 1.89905813*16.24345364*16.24345364 + 0.0207338*13.41385694*13.41385694 + 0.01300394*16.24345364*13.41385694"
   ]
  },
  {
   "cell_type": "code",
   "execution_count": 141,
   "metadata": {},
   "outputs": [
    {
     "data": {
      "text/plain": [
       "array([145.72381131, 225.76917402, 466.96591793, 103.80051687,\n",
       "        48.77859004, 126.20203282, 273.34728664, 118.6707899 ,\n",
       "       542.55240214, 557.78324219,  94.1278756 , 120.80778896,\n",
       "       181.69146017, 193.07613292, 385.55902084, 244.50491225,\n",
       "       133.56214539, 168.38378408,  94.52513116,  86.91097432,\n",
       "        89.34275735,  34.94676793, 143.46232397, 187.53120857,\n",
       "       560.57877439, 355.16135962,  33.64333707,  78.82645348,\n",
       "        29.4133473 , 242.48638268])"
      ]
     },
     "execution_count": 141,
     "metadata": {},
     "output_type": "execute_result"
    }
   ],
   "source": [
    "poly_reg_y_predicted"
   ]
  },
  {
   "cell_type": "code",
   "execution_count": 144,
   "metadata": {
    "scrolled": true
   },
   "outputs": [
    {
     "data": {
      "text/plain": [
       "83    170.447801\n",
       "53    261.986812\n",
       "70    494.035533\n",
       "45    109.040030\n",
       "44     32.941838\n",
       "39    132.817561\n",
       "22    310.387310\n",
       "80    110.778015\n",
       "10    546.602493\n",
       "0     561.923579\n",
       "18    131.434794\n",
       "30    118.815135\n",
       "73    195.609702\n",
       "33    230.266054\n",
       "90    390.179708\n",
       "4     223.689106\n",
       "76    111.765799\n",
       "77    189.611171\n",
       "12    121.232689\n",
       "31     91.872132\n",
       "55     58.947537\n",
       "88      7.898541\n",
       "26    140.593486\n",
       "42    191.811028\n",
       "69    548.047454\n",
       "15    379.574446\n",
       "40     16.187184\n",
       "96     88.201845\n",
       "9      56.494004\n",
       "72    249.847800\n",
       "Name: y, dtype: float64"
      ]
     },
     "execution_count": 144,
     "metadata": {},
     "output_type": "execute_result"
    }
   ],
   "source": [
    "y_test"
   ]
  },
  {
   "cell_type": "code",
   "execution_count": 104,
   "metadata": {},
   "outputs": [
    {
     "data": {
      "text/plain": [
       "62.302487453878534"
      ]
     },
     "execution_count": 104,
     "metadata": {},
     "output_type": "execute_result"
    }
   ],
   "source": [
    "# step4: Creating a linear regression model\n",
    "X_train, X_test, y_train, y_test = train_test_split(X, y, test_size=0.3, random_state=42)\n",
    "lin_reg_model = LinearRegression()\n",
    "lin_reg_model.fit(X_train, y_train)\n",
    "lin_reg_y_predicted = lin_reg_model.predict(X_test)\n",
    "lin_reg_rmse = np.sqrt(mean_squared_error(y_test, lin_reg_y_predicted))\n",
    "lin_reg_rmse"
   ]
  },
  {
   "cell_type": "code",
   "execution_count": null,
   "metadata": {},
   "outputs": [],
   "source": []
  }
 ],
 "metadata": {
  "kernelspec": {
   "display_name": "Python 3",
   "language": "python",
   "name": "python3"
  },
  "language_info": {
   "codemirror_mode": {
    "name": "ipython",
    "version": 3
   },
   "file_extension": ".py",
   "mimetype": "text/x-python",
   "name": "python",
   "nbconvert_exporter": "python",
   "pygments_lexer": "ipython3",
   "version": "3.7.6"
  }
 },
 "nbformat": 4,
 "nbformat_minor": 4
}
