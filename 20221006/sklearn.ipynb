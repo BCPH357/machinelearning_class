{
 "cells": [
  {
   "cell_type": "code",
   "execution_count": null,
   "metadata": {},
   "outputs": [],
   "source": [
    "# 之前講解，Python在資料數據上的基本操作，今天要來談談什麼是機器學習(Machine Learning)\n",
    "# 簡單來說，就是讓機器去學習，機器要如何去學習呢?\n",
    "\n",
    "# 1.篩選出正確需要的資料\n",
    "# 2.將資料分類\n",
    "# 3.訓練資料(包含訓練及測試兩階段)\n",
    "# 4.將訓練完成的知料模型來預測未來資料\n",
    "\n",
    "# 利用python的numpy、pandas可以做許多資料的基本操作，像是可以把蒐集到有缺失值的資料刪除，也可以篩選出某個資料的關鍵屬性...等\n",
    "# 接著將資料依據資料的屬性作正確的方式分類，並使用正確的演算法，例如：支持向量機（SVM)、隨機梯度下降（SGD）、決策樹（Decision Trees）...等\n",
    "# 再來將分類完成的大量資料分為訓練資料及測試資料。\n",
    "\n",
    "# 為什麼要有測試資料呢?因為在資料訓練上，訓練模型只會越來越好(訓練的精確值越來越高)，為了避免過度擬合(Over fitting)的狀況\n",
    "# 可以利用測試資料來確認，訓練完成的資料模型的測試出來的資料是否值得信任，最後，就可以利用訓練完成資料模型來預測未來的數據。"
   ]
  },
  {
   "cell_type": "code",
   "execution_count": null,
   "metadata": {},
   "outputs": [],
   "source": [
    "# SKlearn在python中提供大量常見的機器學習演算法和許多實用的資料集合，像是Iris以及手寫辨識數字的資料(之後的程式舉例會用到)。\n",
    "# http://scikit-learn.org/stable/_static/ml_map.png\n",
    "# 而演算法的部分，可以在SKlearn官網中看到，他將功能分為6個部分：\n",
    "# Classification\n",
    "# Regression\n",
    "# Clustering\n",
    "# Model selection\n",
    "# Preprocessing\n",
    "# Dimensionality reduction\n",
    "# 各個適合的演算法，在SKlearn中也有做相當清楚的圖表，呈現該演算法資料輸出的型態，相當方便"
   ]
  },
  {
   "cell_type": "code",
   "execution_count": 2,
   "metadata": {},
   "outputs": [
    {
     "name": "stdout",
     "output_type": "stream",
     "text": [
      "0.22.1\n",
      "C:\\ProgramData\\Anaconda3\\lib\\site-packages\\sklearn\\__init__.py\n"
     ]
    }
   ],
   "source": [
    "# 安裝Scikit-learn(SKlearn)\n",
    "# pip install scikit-learn\n",
    "\n",
    "# documents\n",
    "# https://scikit-learn.org/stable/\n",
    "\n",
    "# 匯入 sklearn 套件\n",
    "import sklearn\n",
    "print(sklearn.__version__)\n",
    "print(sklearn.__file__)"
   ]
  },
  {
   "cell_type": "code",
   "execution_count": 4,
   "metadata": {},
   "outputs": [
    {
     "name": "stdout",
     "output_type": "stream",
     "text": [
      "load_boston\n",
      "load_breast_cancer\n",
      "load_diabetes\n",
      "load_digits\n",
      "load_files\n",
      "load_iris\n",
      "load_linnerud\n",
      "load_sample_image\n",
      "load_sample_images\n",
      "load_svmlight_file\n",
      "load_svmlight_files\n",
      "load_wine\n"
     ]
    }
   ],
   "source": [
    "# 檢視 sklearn 內建的玩具資料集\n",
    "from sklearn import datasets\n",
    "lists = dir(datasets)\n",
    "for e in lists:\n",
    "    if e.startswith('load'):\n",
    "        print(e)"
   ]
  },
  {
   "cell_type": "code",
   "execution_count": 10,
   "metadata": {},
   "outputs": [
    {
     "name": "stdout",
     "output_type": "stream",
     "text": [
      ".. _iris_dataset:\n",
      "\n",
      "Iris plants dataset\n",
      "--------------------\n",
      "\n",
      "**Data Set Characteristics:**\n",
      "\n",
      "    :Number of Instances: 150 (50 in each of three classes)\n",
      "    :Number of Attributes: 4 numeric, predictive attributes and the class\n",
      "    :Attribute Information:\n",
      "        - sepal length in cm\n",
      "        - sepal width in cm\n",
      "        - petal length in cm\n",
      "        - petal width in cm\n",
      "        - class:\n",
      "                - Iris-Setosa\n",
      "                - Iris-Versicolour\n",
      "                - Iris-Virginica\n",
      "                \n",
      "    :Summary Statistics:\n",
      "\n",
      "    ============== ==== ==== ======= ===== ====================\n",
      "                    Min  Max   Mean    SD   Class Correlation\n",
      "    ============== ==== ==== ======= ===== ====================\n",
      "    sepal length:   4.3  7.9   5.84   0.83    0.7826\n",
      "    sepal width:    2.0  4.4   3.05   0.43   -0.4194\n",
      "    petal length:   1.0  6.9   3.76   1.76    0.9490  (high!)\n",
      "    petal width:    0.1  2.5   1.20   0.76    0.9565  (high!)\n",
      "    ============== ==== ==== ======= ===== ====================\n",
      "\n",
      "    :Missing Attribute Values: None\n",
      "    :Class Distribution: 33.3% for each of 3 classes.\n",
      "    :Creator: R.A. Fisher\n",
      "    :Donor: Michael Marshall (MARSHALL%PLU@io.arc.nasa.gov)\n",
      "    :Date: July, 1988\n",
      "\n",
      "The famous Iris database, first used by Sir R.A. Fisher. The dataset is taken\n",
      "from Fisher's paper. Note that it's the same as in R, but not as in the UCI\n",
      "Machine Learning Repository, which has two wrong data points.\n",
      "\n",
      "This is perhaps the best known database to be found in the\n",
      "pattern recognition literature.  Fisher's paper is a classic in the field and\n",
      "is referenced frequently to this day.  (See Duda & Hart, for example.)  The\n",
      "data set contains 3 classes of 50 instances each, where each class refers to a\n",
      "type of iris plant.  One class is linearly separable from the other 2; the\n",
      "latter are NOT linearly separable from each other.\n",
      "\n",
      ".. topic:: References\n",
      "\n",
      "   - Fisher, R.A. \"The use of multiple measurements in taxonomic problems\"\n",
      "     Annual Eugenics, 7, Part II, 179-188 (1936); also in \"Contributions to\n",
      "     Mathematical Statistics\" (John Wiley, NY, 1950).\n",
      "   - Duda, R.O., & Hart, P.E. (1973) Pattern Classification and Scene Analysis.\n",
      "     (Q327.D83) John Wiley & Sons.  ISBN 0-471-22361-1.  See page 218.\n",
      "   - Dasarathy, B.V. (1980) \"Nosing Around the Neighborhood: A New System\n",
      "     Structure and Classification Rule for Recognition in Partially Exposed\n",
      "     Environments\".  IEEE Transactions on Pattern Analysis and Machine\n",
      "     Intelligence, Vol. PAMI-2, No. 1, 67-71.\n",
      "   - Gates, G.W. (1972) \"The Reduced Nearest Neighbor Rule\".  IEEE Transactions\n",
      "     on Information Theory, May 1972, 431-433.\n",
      "   - See also: 1988 MLC Proceedings, 54-64.  Cheeseman et al\"s AUTOCLASS II\n",
      "     conceptual clustering system finds 3 classes in the data.\n",
      "   - Many, many more ...\n"
     ]
    }
   ],
   "source": [
    "iris = datasets.load_iris()\n",
    "print(iris.DESCR)"
   ]
  },
  {
   "cell_type": "code",
   "execution_count": 19,
   "metadata": {},
   "outputs": [
    {
     "name": "stdout",
     "output_type": "stream",
     "text": [
      "make_biclusters\n",
      "make_blobs\n",
      "make_checkerboard\n",
      "make_circles\n",
      "make_classification\n",
      "make_friedman1\n",
      "make_friedman2\n",
      "make_friedman3\n",
      "make_gaussian_quantiles\n",
      "make_hastie_10_2\n",
      "make_low_rank_matrix\n",
      "make_moons\n",
      "make_multilabel_classification\n",
      "make_regression\n",
      "make_s_curve\n",
      "make_sparse_coded_signal\n",
      "make_sparse_spd_matrix\n",
      "make_sparse_uncorrelated\n",
      "make_spd_matrix\n",
      "make_swiss_roll\n"
     ]
    }
   ],
   "source": [
    "# 檢視sklearn內建的創建資料集function\n",
    "from sklearn import datasets\n",
    "lists = dir(datasets)\n",
    "for e in lists:\n",
    "    if e.startswith('make'):\n",
    "        print(e)"
   ]
  },
  {
   "cell_type": "code",
   "execution_count": 105,
   "metadata": {},
   "outputs": [
    {
     "data": {
      "image/png": "[encoded data removed]",
      "text/plain": [
       "<Figure size 432x288 with 1 Axes>"
      ]
     },
     "metadata": {
      "needs_background": "light"
     },
     "output_type": "display_data"
    }
   ],
   "source": [
    "# make_regression 生成回歸資料集\n",
    "import matplotlib.pyplot as plt\n",
    "X, y = datasets.make_regression(n_samples=100, n_features=1, noise=10, random_state=78)\n",
    "plt.scatter(X, y)\n",
    "plt.show()"
   ]
  },
  {
   "cell_type": "code",
   "execution_count": 86,
   "metadata": {},
   "outputs": [
    {
     "data": {
      "image/png": "[encoded data removed]",
      "text/plain": [
       "<Figure size 432x288 with 1 Axes>"
      ]
     },
     "metadata": {
      "needs_background": "light"
     },
     "output_type": "display_data"
    }
   ],
   "source": [
    "# make_classification 生成分類資料集\n",
    "import matplotlib.pyplot as plt\n",
    "X, y = datasets.make_classification(n_samples=100, n_classes=2, random_state=78)\n",
    "plt.scatter(X[:, 0], X[:, 1], c=y)\n",
    "plt.show()"
   ]
  },
  {
   "cell_type": "code",
   "execution_count": 75,
   "metadata": {
    "scrolled": true
   },
   "outputs": [
    {
     "data": {
      "text/plain": [
       "['Binarizer',\n",
       " 'FunctionTransformer',\n",
       " 'KBinsDiscretizer',\n",
       " 'KernelCenterer',\n",
       " 'LabelBinarizer',\n",
       " 'LabelEncoder',\n",
       " 'MaxAbsScaler',\n",
       " 'MinMaxScaler',\n",
       " 'MultiLabelBinarizer',\n",
       " 'Normalizer',\n",
       " 'OneHotEncoder',\n",
       " 'OrdinalEncoder',\n",
       " 'PolynomialFeatures',\n",
       " 'PowerTransformer',\n",
       " 'QuantileTransformer',\n",
       " 'RobustScaler',\n",
       " 'StandardScaler',\n",
       " '__all__',\n",
       " '__builtins__',\n",
       " '__cached__',\n",
       " '__doc__',\n",
       " '__file__',\n",
       " '__loader__',\n",
       " '__name__',\n",
       " '__package__',\n",
       " '__path__',\n",
       " '__spec__',\n",
       " '_csr_polynomial_expansion',\n",
       " '_data',\n",
       " '_discretization',\n",
       " '_encoders',\n",
       " '_function_transformer',\n",
       " '_label',\n",
       " 'add_dummy_feature',\n",
       " 'binarize',\n",
       " 'label_binarize',\n",
       " 'maxabs_scale',\n",
       " 'minmax_scale',\n",
       " 'normalize',\n",
       " 'power_transform',\n",
       " 'quantile_transform',\n",
       " 'robust_scale',\n",
       " 'scale']"
      ]
     },
     "execution_count": 75,
     "metadata": {},
     "output_type": "execute_result"
    }
   ],
   "source": [
    "# 檢視 sklearn 前處理函數\n",
    "from sklearn import preprocessing         \n",
    "dir(preprocessing)"
   ]
  },
  {
   "cell_type": "code",
   "execution_count": 61,
   "metadata": {},
   "outputs": [
    {
     "data": {
      "image/png": "[encoded data removed]",
      "text/plain": [
       "<Figure size 432x288 with 1 Axes>"
      ]
     },
     "metadata": {
      "needs_background": "light"
     },
     "output_type": "display_data"
    }
   ],
   "source": [
    "# StandardScaler基礎標準化即為高斯分佈。使得數據的平均值為0，方差為1。\n",
    "from sklearn.preprocessing import StandardScaler\n",
    "import numpy as np\n",
    "X, y = np.random.normal(3, 2.5, size=(100, 1)), np.random.randn(100, 1)\n",
    "plt.scatter(X, y)\n",
    "plt.show()"
   ]
  },
  {
   "cell_type": "code",
   "execution_count": 62,
   "metadata": {},
   "outputs": [
    {
     "data": {
      "image/png": "[encoded data removed]",
      "text/plain": [
       "<Figure size 432x288 with 1 Axes>"
      ]
     },
     "metadata": {
      "needs_background": "light"
     },
     "output_type": "display_data"
    }
   ],
   "source": [
    "scaler = StandardScaler().fit(X)\n",
    "X_scaled = scaler.transform(X)\n",
    "plt.scatter(X_scaled, y)\n",
    "plt.show()"
   ]
  },
  {
   "cell_type": "code",
   "execution_count": 63,
   "metadata": {},
   "outputs": [
    {
     "data": {
      "image/png": "[encoded data removed]",
      "text/plain": [
       "<Figure size 432x288 with 1 Axes>"
      ]
     },
     "metadata": {
      "needs_background": "light"
     },
     "output_type": "display_data"
    }
   ],
   "source": [
    "# MinMaxScaler最小最大值標準化，給定了一個明確的最大值與最小值史資料符合。\n",
    "from sklearn.preprocessing import MinMaxScaler\n",
    "X, y = np.random.randn(100, 1), np.random.randn(100, 1)\n",
    "plt.scatter(X, y)\n",
    "plt.show()"
   ]
  },
  {
   "cell_type": "code",
   "execution_count": 64,
   "metadata": {},
   "outputs": [
    {
     "data": {
      "image/png": "[encoded data removed]",
      "text/plain": [
       "<Figure size 432x288 with 1 Axes>"
      ]
     },
     "metadata": {
      "needs_background": "light"
     },
     "output_type": "display_data"
    }
   ],
   "source": [
    "scaler = MinMaxScaler(feature_range=(0, 1)).fit(X)\n",
    "X_scaled = scaler.transform(X)\n",
    "plt.scatter(X_scaled, y)\n",
    "plt.show()"
   ]
  },
  {
   "cell_type": "code",
   "execution_count": null,
   "metadata": {},
   "outputs": [],
   "source": []
  }
 ],
 "metadata": {
  "kernelspec": {
   "display_name": "Python 3",
   "language": "python",
   "name": "python3"
  },
  "language_info": {
   "codemirror_mode": {
    "name": "ipython",
    "version": 3
   },
   "file_extension": ".py",
   "mimetype": "text/x-python",
   "name": "python",
   "nbconvert_exporter": "python",
   "pygments_lexer": "ipython3",
   "version": "3.7.6"
  }
 },
 "nbformat": 4,
 "nbformat_minor": 4
}
